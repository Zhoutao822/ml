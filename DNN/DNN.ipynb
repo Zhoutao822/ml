{
 "cells": [
  {
   "cell_type": "code",
   "execution_count": 1,
   "metadata": {
    "collapsed": false,
    "deletable": true,
    "editable": true
   },
   "outputs": [
    {
     "name": "stdout",
     "output_type": "stream",
     "text": [
      "Cost after iteration 0 : 0.693143745676\n",
      "Cost after iteration 1000 : 0.41086476446\n",
      "Cost after iteration 2000 : 0.243488390488\n",
      "Cost after iteration 3000 : 0.21740448224\n",
      "Cost after iteration 4000 : 0.196254573553\n",
      "Cost after iteration 5000 : 0.172380522286\n",
      "Cost after iteration 6000 : 0.170138343395\n",
      "Cost after iteration 7000 : 0.164140132271\n",
      "Cost after iteration 8000 : 0.163431093438\n",
      "Cost after iteration 9000 : 0.159173224973\n",
      "Cost after iteration 10000 : 0.155747488685\n",
      "Cost after iteration 11000 : 0.155508232955\n",
      "Cost after iteration 12000 : 0.150230023385\n",
      "Cost after iteration 13000 : 0.153176207722\n",
      "Cost after iteration 14000 : 0.148573369308\n",
      "Cost after iteration 15000 : 0.161233129541\n",
      "Cost after iteration 16000 : 0.139451338523\n",
      "Cost after iteration 17000 : 0.14140400962\n",
      "Cost after iteration 18000 : 0.135470144535\n",
      "Cost after iteration 19000 : 0.145545456103\n",
      "Cost after iteration 20000 : 0.138545358693\n",
      "Cost after iteration 21000 : 0.144878854175\n",
      "Cost after iteration 22000 : 0.144735483815\n",
      "Cost after iteration 23000 : 0.137519429266\n",
      "Cost after iteration 24000 : 0.133375259824\n",
      "Cost after iteration 25000 : 0.13857456563\n",
      "Cost after iteration 26000 : 0.127725744762\n",
      "Cost after iteration 27000 : 0.115553145475\n",
      "Cost after iteration 28000 : 0.127386714291\n",
      "Cost after iteration 29000 : 0.132030831679\n",
      "Cost after iteration 30000 : 0.121448177805\n",
      "Cost after iteration 31000 : 0.135023688163\n",
      "Cost after iteration 32000 : 0.12933735111\n",
      "Cost after iteration 33000 : 0.145016315976\n",
      "Cost after iteration 34000 : 0.120206404303\n",
      "Cost after iteration 35000 : 0.12947148782\n",
      "Cost after iteration 36000 : 0.122119600345\n",
      "Cost after iteration 37000 : 0.119458432489\n",
      "Cost after iteration 38000 : 0.116742104183\n",
      "Cost after iteration 39000 : 0.123742259728\n",
      "Cost after iteration 40000 : 0.124192934997\n",
      "Cost after iteration 41000 : 0.105923530376\n",
      "Cost after iteration 42000 : 0.105493803759\n",
      "Cost after iteration 43000 : 0.105134332065\n",
      "Cost after iteration 44000 : 0.115963753925\n",
      "Cost after iteration 45000 : 0.101069346086\n",
      "Cost after iteration 46000 : 0.0964081659481\n"
     ]
    },
    {
     "data": {
      "image/png": "[encoded data removed]",
      "text/plain": [
       "<matplotlib.figure.Figure at 0x7f9198c592d0>"
      ]
     },
     "metadata": {},
     "output_type": "display_data"
    },
    {
     "name": "stdout",
     "output_type": "stream",
     "text": [
      "accuracy reaches 0.9123\n"
     ]
    }
   ],
   "source": [
    "%run DNN.py"
   ]
  }
 ],
 "metadata": {
  "kernelspec": {
   "display_name": "Python 2",
   "language": "python",
   "name": "python2"
  },
  "language_info": {
   "codemirror_mode": {
    "name": "ipython",
    "version": 2
   },
   "file_extension": ".py",
   "mimetype": "text/x-python",
   "name": "python",
   "nbconvert_exporter": "python",
   "pygments_lexer": "ipython2",
   "version": "2.7.6"
  }
 },
 "nbformat": 4,
 "nbformat_minor": 2
}
