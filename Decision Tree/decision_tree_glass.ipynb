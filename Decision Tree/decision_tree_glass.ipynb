{
 "cells": [
  {
   "cell_type": "code",
   "execution_count": 2,
   "metadata": {
    "collapsed": false,
    "deletable": true,
    "editable": true
   },
   "outputs": [
    {
     "name": "stdout",
     "output_type": "stream",
     "text": [
      "           age astigmatic prescript tearRate\n",
      "0        young         no     myope  reduced\n",
      "1        young         no     myope   normal\n",
      "2        young        yes     myope  reduced\n",
      "3        young        yes     myope   normal\n",
      "4        young         no     hyper  reduced\n",
      "5        young         no     hyper   normal\n",
      "6        young        yes     hyper  reduced\n",
      "7        young        yes     hyper   normal\n",
      "8          pre         no     myope  reduced\n",
      "9          pre         no     myope   normal\n",
      "10         pre        yes     myope  reduced\n",
      "11         pre        yes     myope   normal\n",
      "12         pre         no     hyper  reduced\n",
      "13         pre         no     hyper   normal\n",
      "14         pre        yes     hyper  reduced\n",
      "15         pre        yes     hyper   normal\n",
      "16  presbyopic         no     myope  reduced\n",
      "17  presbyopic         no     myope   normal\n",
      "18  presbyopic        yes     myope  reduced\n",
      "19  presbyopic        yes     myope   normal\n",
      "20  presbyopic         no     hyper  reduced\n",
      "21  presbyopic         no     hyper   normal\n",
      "22  presbyopic        yes     hyper  reduced\n",
      "23  presbyopic        yes     hyper   normal\n",
      "    age  astigmatic  prescript  tearRate\n",
      "0     2           0          1         1\n",
      "1     2           0          1         0\n",
      "2     2           1          1         1\n",
      "3     2           1          1         0\n",
      "4     2           0          0         1\n",
      "5     2           0          0         0\n",
      "6     2           1          0         1\n",
      "7     2           1          0         0\n",
      "8     0           0          1         1\n",
      "9     0           0          1         0\n",
      "10    0           1          1         1\n",
      "11    0           1          1         0\n",
      "12    0           0          0         1\n",
      "13    0           0          0         0\n",
      "14    0           1          0         1\n",
      "15    0           1          0         0\n",
      "16    1           0          1         1\n",
      "17    1           0          1         0\n",
      "18    1           1          1         1\n",
      "19    1           1          1         0\n",
      "20    1           0          0         1\n",
      "21    1           0          0         0\n",
      "22    1           1          0         1\n",
      "23    1           1          0         0\n",
      "The prediction for [1, 1, 1, 0] is:\n",
      "['hard']\n"
     ]
    }
   ],
   "source": [
    "%run sklearn-tree.py"
   ]
  }
 ],
 "metadata": {
  "kernelspec": {
   "display_name": "Python 2",
   "language": "python",
   "name": "python2"
  },
  "language_info": {
   "codemirror_mode": {
    "name": "ipython",
    "version": 2
   },
   "file_extension": ".py",
   "mimetype": "text/x-python",
   "name": "python",
   "nbconvert_exporter": "python",
   "pygments_lexer": "ipython2",
   "version": "2.7.6"
  }
 },
 "nbformat": 4,
 "nbformat_minor": 2
}
